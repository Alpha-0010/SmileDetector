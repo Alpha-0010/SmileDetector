{
 "cells": [
  {
   "cell_type": "code",
   "execution_count": 1,
   "id": "b8b19f9b",
   "metadata": {},
   "outputs": [],
   "source": [
    "import cv2"
   ]
  },
  {
   "cell_type": "code",
   "execution_count": 2,
   "id": "9f9e70f5",
   "metadata": {},
   "outputs": [
    {
     "name": "stdout",
     "output_type": "stream",
     "text": [
      "Using matplotlib backend: Qt5Agg\n"
     ]
    }
   ],
   "source": [
    "%matplotlib"
   ]
  },
  {
   "cell_type": "code",
   "execution_count": 3,
   "id": "26d0d4b3",
   "metadata": {},
   "outputs": [],
   "source": [
    "detector=cv2.CascadeClassifier('./haarcascade_smile.xml')"
   ]
  },
  {
   "cell_type": "code",
   "execution_count": 12,
   "id": "3f57de8c",
   "metadata": {},
   "outputs": [],
   "source": [
    "cam=cv2.VideoCapture(0)"
   ]
  },
  {
   "cell_type": "code",
   "execution_count": 13,
   "id": "03f95519",
   "metadata": {},
   "outputs": [],
   "source": [
    "while True:\n",
    "    \n",
    "    # cam.read() returns two values one is the Frame and the other is ret which will be True or False depending\n",
    "    # upon if the webcam is able to capture image..\n",
    "    # Capture Frame-By-Frame...\n",
    "    ret, frame=cam.read()\n",
    "    \n",
    "    if ret==False:\n",
    "        continue\n",
    "    \n",
    "    \n",
    "    allSmiles=detector.detectMultiScale(frame,1.5,70)\n",
    "    \n",
    "    # allSimles might give us multiple rectangles. But we only want to have one so we will \n",
    "    # use the biggest rectangle of those. For this to happen we will sort the allSmiles on the basis of biggest area\n",
    "    # So sort allSmiles based on area of rectangle.\n",
    "    sortedSmile=sorted(allSmiles,key= lambda s:s[-1]*s[-2])\n",
    "    \n",
    "    if sortedSmile:\n",
    "        x,y,w,h = sortedSmile[0]\n",
    "        frame=cv2.rectangle(frame,(x,y),(x+w,y+h),(0,0,255),2)\n",
    "    \n",
    "#     for smile in allSmiles:\n",
    "#         x,y,w,h = smile\n",
    "#         frame=cv2.rectangle(frame,(x,y),(x+w,y+h),(0,0,255),2)\n",
    "    \n",
    "    # Display the resulting Frame.\n",
    "    cv2.imshow('Smile Detector',frame)\n",
    "    \n",
    "    # To stop the webcam if 'q' key is pressed.\n",
    "    keyPressed=cv2.waitKey(1) & 0xFF\n",
    "    if keyPressed== ord('q'):\n",
    "        break\n",
    "    \n",
    "\n",
    "# When everything is done release the capture and destroyAllWindows.\n",
    "cam.release()\n",
    "cv2.destroyAllWindows()"
   ]
  },
  {
   "cell_type": "code",
   "execution_count": null,
   "id": "9fbd5775",
   "metadata": {},
   "outputs": [],
   "source": []
  },
  {
   "cell_type": "code",
   "execution_count": null,
   "id": "28acce27",
   "metadata": {},
   "outputs": [],
   "source": []
  },
  {
   "cell_type": "code",
   "execution_count": null,
   "id": "7116c197",
   "metadata": {},
   "outputs": [],
   "source": []
  }
 ],
 "metadata": {
  "kernelspec": {
   "display_name": "Python 3",
   "language": "python",
   "name": "python3"
  },
  "language_info": {
   "codemirror_mode": {
    "name": "ipython",
    "version": 3
   },
   "file_extension": ".py",
   "mimetype": "text/x-python",
   "name": "python",
   "nbconvert_exporter": "python",
   "pygments_lexer": "ipython3",
   "version": "3.8.8"
  }
 },
 "nbformat": 4,
 "nbformat_minor": 5
}
